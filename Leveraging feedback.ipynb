{
 "cells": [
  {
   "cell_type": "markdown",
   "metadata": {},
   "source": [
    "# Введение"
   ]
  },
  {
   "cell_type": "markdown",
   "metadata": {},
   "source": [
    "Для задания выбрана статья [A Framework for Linear TV Recommendation by Leveraging Implicit Feedback](https://link.springer.com/chapter/10.1007/978-981-13-2622-6_16), в которой представлен метод преобразования неявного фидбека пользователя (продолжительность просмотра передачи на ТВ и количество взаимодействий с ней) в явный с целью дальнейшего использования в рекомендательных системах. В статье рассматривается широковещательное телевидение, где нет возможности получить явный фидбек, и есть график передач с рекламой, что приводит к увеличению взаимодействий с передачей (смена канала на рекламу). Яндекс объединяет в своих сервисах и Linear TV, и TV on demand, поэтому подход в статье можно использовать для преобразования фидбека из Эфира как для рекомендаций как на нём же, так и для рекомендаций в Фильмах.\n",
    "\n",
    "В статье эксперименты проводятся на открытом датасете, доступном по ссылке [TV audience dataset](http://recsys.deib.polimi.it/?page%20id=76). В задании произведена реализация метода из статьи с выводами."
   ]
  },
  {
   "cell_type": "markdown",
   "metadata": {},
   "source": [
    "# Разбор статьи"
   ]
  },
  {
   "cell_type": "markdown",
   "metadata": {},
   "source": [
    "### _Описание метода_"
   ]
  },
  {
   "cell_type": "markdown",
   "metadata": {},
   "source": [
    "В статье поставлена цель преобразовать неявный фидбек пользователя в явный для использования в рекомендательных системах. В неявном фидбеке доступны только продожительность просмотра передачи $P$ пользователем $U$ в данное взаимодействие и количество таких взаимодействиий, при этом имеют место следующие особенности:\n",
    "* Наличие рекламы приводит к увеличению взаимодействий пользователя и передачи и меняет реальную продолжительность передачи. \n",
    "* Передача транслируется с повторами, но пользователь обычно смотрит её только один раз.\n",
    "\n",
    "Это приводит к следующим допущениям и понятиям:\n",
    "* Вводится $ART$ _(Actual Running Time)_, которое вычисляется как максимум из средней продолжительности передачи по всем пользователям.\n",
    "* Вводится $TF$ _(Total Frequency)_, которое вычисляется как максимум из числа взаимодействий с передачей по всем пользователям.\n",
    "\n",
    "Для перевода неявного фидбека в рейтинги авторы вводят следующие понятия:\n",
    "* $DR$ (_Duration Ratio_) -- отношение средней продолжительности передачи к _ART_ этой передачи.\n",
    "* $FR$ (_Frequency Ratio_) -- отношение числа взаимодействия пользователя с  передачей к _TF_ этой передачи.\n",
    "\n",
    "Обе новые характеристики принимают значения от 0 до 1, и эти значения переводятся в рейтинг. Для $FR$ перевод в рейтинг равномерный:\n",
    "\n",
    "| Bin no.|Frequency Ratio (FR) | Rating |\n",
    "| :-----:|:-------------------:|:------:|\n",
    "| 1      | > 0.0 & ≤ 0.2       |1       |\n",
    "| 2      | > 0.2 & ≤ 0.4       |2       |\n",
    "| 3      | > 0.4 & ≤ 0.6       |3       |\n",
    "| 4      | > 0.6 & ≤ 0.8       |4       |\n",
    "| 5      | > 0.8 & ≤ 1.0       |5       |\n",
    "\n",
    "\n",
    "Для $DR$ перевод в рейтинг неравномерный, и авторы это объясняют основу для такого решения как _findings derived from the available dataset_:\n",
    "\n",
    "\n",
    "| Bin no.|Duration Ratio (DR)  | Rating |\n",
    "| :-----:|:-------------------:|:------:|\n",
    "| 1      | > 0.0 & ≤ 0.05      |1       |\n",
    "| 2      | > 0.05 & ≤ 0.25     |2       |\n",
    "| 3      | > 0.25 & ≤ 0.50     |3       |\n",
    "| 4      | > 0.50 & ≤ 0.75     |4       |\n",
    "| 5      | > 0.75 & ≤ 1.0      |5       |\n",
    "\n",
    "Полученные после перевода значения рейтинга обозначаются как $R_{frequency}$ и $R_{duration}$ соответственно, а итоговый рейтинг вычисляется с добавлением параметра $n$, где $0\\leq n\\leq 1$:\n",
    "\n",
    "$$R_{final} = (R_{frequency})^{n}\\cdot (R_{duration})^{1-n}$$"
   ]
  },
  {
   "cell_type": "markdown",
   "metadata": {},
   "source": [
    "### _Эксперименты_"
   ]
  },
  {
   "cell_type": "markdown",
   "metadata": {},
   "source": [
    "Для экспериментов использован датасет [TV audience dataset](http://recsys.deib.polimi.it/?page%20id=76), для которого авторы статьи используют своё разбиение данных на 5 частей для проведения 5-fold cross validation и усреднением результата. При этом все взаимодействия пользователя с передачей продолжительностью меньше 1 минуты отфильтровываются.\n",
    "\n",
    "В статье представлены графики для рейтингов, на основе которых сделаны выводы о том, что большое количество минимального рейтинга = 1 говорит о том, что передачи пролистывали во время рекламы. И что эта привязанность к сетке вещания отличает взаимодействие от TV on demand. \n",
    "\n",
    "Для оценки качества используют метрики $RMSE$, $Precision$, $Recall$ и  $F1$, которые используют для сравнения результатов для различных $n$ из множества $\\{0, 0.25, 0.5, 0.75, 1\\}$ на алгоритмах рекомендательных систем: User-based Collaborative Filtration, Item-based Collaborative Filtration, Singular Value Decomposition, Non-negative Matrix Factorization, Probabilistic Matrix Factorization. Во всех экспериментах лучший результат у $n = 0.75$, то есть вклад в рейтинг от частоты больше."
   ]
  },
  {
   "cell_type": "markdown",
   "metadata": {},
   "source": [
    "### _Лирическое отступление_"
   ]
  },
  {
   "cell_type": "markdown",
   "metadata": {},
   "source": [
    "Во время работы над литературным обзором в продолжение семестровой практики по [автоматической генерации плейлистов](https://compscicenter.ru/projects/413/) я наткнулась на работы [Bob L. Sturm](http://www.eecs.qmul.ac.uk/~sturm/), который серьёзно подошёл к вопросу качества проводимых в статьях экспериментов и сделал несколько обзоров, в том числе изучение около 500 статей по теме распознавания музыкального жанра [(link)](https://link.springer.com/chapter/10.1007/978-3-319-12093-5_2). Эти обзоры привели к выводам, которые актуальны в любой области анализа данных, не только распознавания музыкального жанра\n",
    "[(link)](https://www.tandfonline.com/doi/abs/10.1080/09298215.2014.894533):\n",
    "1. Define problems with use cases and formalism\n",
    "2. Design valid and relevant experiments\n",
    "3. Perform system analysis deeper than just evaluation\n",
    "4. Acknowledge limitations and proceed with skepticism\n",
    "5. Make reproducible work reproducible\n",
    "\n",
    "В другой статье [An Analysis of the GTZAN Music Genre Dataset](https://dl.acm.org/citation.cfm?id=2390851) тот же автор изучил датасет GTZAN, который используется в большинстве работ по распознаванию музыкального жанра и показал наличие в данных такого количества ошибок, что это ставит под сомнение результаты работ и их сравнение. Это приводит к главному выводу:\n",
    "\n",
    "<ol start=\"0\">\n",
    "  <li>__Know your data__</li>\n",
    "</ol>\n",
    "\n",
    "Пользуясь этими выводами, сформулирую сомнительные моменты по статье. Кстати, в этой же области Music Information Retrieval есть статья с философским названием [How Significant is Statistically Significant?](https://julian-urbano.info/publications/041-how-significant-statistically-significant-case-audio-music-similarity-retrieval.html)."
   ]
  },
  {
   "cell_type": "markdown",
   "metadata": {},
   "source": [
    "### _Скептические размышления по статье_"
   ]
  },
  {
   "cell_type": "markdown",
   "metadata": {},
   "source": [
    "* Не указан способ разбиения датасета, что делает невозможным воспроизведение экспериментов. \n",
    "* Непонятно, по каким инсайтам из данных один из рейтингов берётся неравномерно -- нет примеров или пояснений.\n",
    "* В датасете данные собраны для 19 недель, составители при этом пишут, что недели с 14-й по 19-ю лучше не использовать из-за наличия ошибок. Авторы статьи взяли 12 недель (без указания, каких).\n",
    "* В данных есть столбец slot, который отвечает за время трансляции передачи, и один и тот же event_ID может иметь различные slot, т.к. передача может транслироваться несколько раз. Авторы статьи не упомянули о том, было ли это учтено при использовании данных. \n",
    "* Для параметра $n$ используется набор  $\\{0, 0.25, 0.5, 0.75, 1\\}$, когда его можно подобрать алгоритмами машинного обучения или из оценки $AUC$ -- тем более, что в качестве метрик используются $Precision$ и $Recall$.\n",
    "* Используются метрики, оперирующие понятием релевантности, которое в контексте статьи не введено -- имеется ли в виду, что пользователю на тестовом множестве предсказали передачу, которую он в ней смотрел или что-то другое?\n",
    "* По итогам эксперимента отдаётся предпочтение $n = 0.75$, то есть больший вклад у рейтинга для частот -- тот самый, который переводится неравномерным образом. При этом не проведено связи этого значения с графиками для разных $n$.\n",
    "* Постановку эксперимента авторы описывают как сравнение того, улучшились ли результаты для алгоритмов по указанным метрикам, но под сравнением имеется в виду только разные $n$ из их метода, baseline нет.\n",
    "* Не написаны подробности реализации алгоритмов: какие библиотеки и ресурсы, какие параметры для алгоритмов. Ссылок на код нет.\n",
    "* Взаимодействия меньше одной минуты отфильтровываются. Эта информация может быть ценной. Например, указывать на то, что передача не понравилась -- нужно было посмотреть на такие данные. Кроме того, фильтрация по абсолютному значению в одну минуту вызывает подозрения, ведь продолжительность передач может разниться в несколько раз.\n",
    "* Графики выглядят информативными, но информативность мало раскрыта в статье, только делается вывод о том, что передачи часто пролистывают, и что это отличает Linear TV от TV on demand (без ссылок на данные по TVOD)."
   ]
  },
  {
   "cell_type": "markdown",
   "metadata": {
    "collapsed": true
   },
   "source": [
    "Воспроизвести результат не получится: нет разбиения, подробностей реализации, а также понятия релевантности, которое используется для метрик. Поэтому в эксперименте реализован только сам метод с построением графиков рейтингов, а от датасета используется 1 неделя для ускорения вычислений."
   ]
  },
  {
   "cell_type": "markdown",
   "metadata": {},
   "source": [
    "# Реализация метода"
   ]
  },
  {
   "cell_type": "code",
   "execution_count": 1,
   "metadata": {
    "collapsed": true
   },
   "outputs": [],
   "source": [
    "import pandas as pd"
   ]
  },
  {
   "cell_type": "markdown",
   "metadata": {},
   "source": [
    "Посмотрим на данные, чтобы определиться с параметрами метода read_csv:"
   ]
  },
  {
   "cell_type": "code",
   "execution_count": 2,
   "metadata": {
    "collapsed": false
   },
   "outputs": [
    {
     "name": "stdout",
     "output_type": "stream",
     "text": [
      "46,19,1,5,81,1,202344,50880093,5\n",
      "46,20,1,5,81,1,202344,50880093,15\n",
      "46,20,1,3,28,1,254329,50880094,41\n",
      "1,19,1,6,11,2,109428,51094492,11\n",
      "1,19,1,6,86,2,6017,51094494,5\n",
      "1,19,1,5,98,2,6187,51094496,12\n",
      "4,19,1,5,13,2,142037,51092594,1\n",
      "46,19,1,5,81,2,202344,50880093,1\n",
      "46,19,1,5,81,2,202344,50880093,5\n",
      "46,20,1,5,81,2,202344,50880093,15\n"
     ]
    }
   ],
   "source": [
    "%%bash \n",
    "head tv-audience-dataset.csv"
   ]
  },
  {
   "cell_type": "markdown",
   "metadata": {},
   "source": [
    "Заголовка нет, разделитель дефолтный. Названия колонок из описания:"
   ]
  },
  {
   "cell_type": "code",
   "execution_count": 3,
   "metadata": {
    "collapsed": true
   },
   "outputs": [],
   "source": [
    "col_names = ['channel_ID', 'slot', 'week', 'genre_ID', 'subGenre_ID', 'user_ID', 'program_ID', 'event_ID', 'duration']"
   ]
  },
  {
   "cell_type": "markdown",
   "metadata": {},
   "source": [
    "Размер файла:"
   ]
  },
  {
   "cell_type": "code",
   "execution_count": 4,
   "metadata": {
    "collapsed": false
   },
   "outputs": [
    {
     "name": "stdout",
     "output_type": "stream",
     "text": [
      "-rw-r--r-- 1 n n 1095M дек 20  2014 tv-audience-dataset.csv\n"
     ]
    }
   ],
   "source": [
    "%%bash\n",
    "ls -l --b=M tv-audience-dataset.csv"
   ]
  },
  {
   "cell_type": "markdown",
   "metadata": {},
   "source": [
    "Больше гигабайта. Ограничимся первой неделей, за неделю отвечает третий столбец:"
   ]
  },
  {
   "cell_type": "code",
   "execution_count": 5,
   "metadata": {
    "collapsed": true
   },
   "outputs": [],
   "source": [
    "%%bash\n",
    "awk -F',' '$3 == /1/ {print }' tv-audience-dataset.csv > tv-1week.csv"
   ]
  },
  {
   "cell_type": "markdown",
   "metadata": {},
   "source": [
    "Размер полученного файла:"
   ]
  },
  {
   "cell_type": "code",
   "execution_count": 6,
   "metadata": {
    "collapsed": false
   },
   "outputs": [
    {
     "name": "stdout",
     "output_type": "stream",
     "text": [
      "-rw-r--r-- 1 n n 59M ноя  5 21:42 tv-1week.csv\n"
     ]
    }
   ],
   "source": [
    "%%bash\n",
    "ls -l --b=M tv-1week.csv"
   ]
  },
  {
   "cell_type": "markdown",
   "metadata": {},
   "source": [
    "Гораздо лучше. В статье используются только последние 4 столбца:"
   ]
  },
  {
   "cell_type": "code",
   "execution_count": 9,
   "metadata": {
    "collapsed": false
   },
   "outputs": [],
   "source": [
    "col_used = col_names[5:]"
   ]
  },
  {
   "cell_type": "code",
   "execution_count": 10,
   "metadata": {
    "collapsed": false
   },
   "outputs": [],
   "source": [
    "tv_dataset = pd.read_csv('tv-1week.csv', header=None, names=col_names, usecols=col_used)"
   ]
  },
  {
   "cell_type": "code",
   "execution_count": 11,
   "metadata": {
    "collapsed": false
   },
   "outputs": [
    {
     "data": {
      "text/html": [
       "<div>\n",
       "<table border=\"1\" class=\"dataframe\">\n",
       "  <thead>\n",
       "    <tr style=\"text-align: right;\">\n",
       "      <th></th>\n",
       "      <th>user_ID</th>\n",
       "      <th>program_ID</th>\n",
       "      <th>event_ID</th>\n",
       "      <th>duration</th>\n",
       "    </tr>\n",
       "  </thead>\n",
       "  <tbody>\n",
       "    <tr>\n",
       "      <th>0</th>\n",
       "      <td>1</td>\n",
       "      <td>202344</td>\n",
       "      <td>50880093</td>\n",
       "      <td>5</td>\n",
       "    </tr>\n",
       "    <tr>\n",
       "      <th>1</th>\n",
       "      <td>1</td>\n",
       "      <td>202344</td>\n",
       "      <td>50880093</td>\n",
       "      <td>15</td>\n",
       "    </tr>\n",
       "    <tr>\n",
       "      <th>2</th>\n",
       "      <td>1</td>\n",
       "      <td>254329</td>\n",
       "      <td>50880094</td>\n",
       "      <td>41</td>\n",
       "    </tr>\n",
       "    <tr>\n",
       "      <th>3</th>\n",
       "      <td>2</td>\n",
       "      <td>109428</td>\n",
       "      <td>51094492</td>\n",
       "      <td>11</td>\n",
       "    </tr>\n",
       "    <tr>\n",
       "      <th>4</th>\n",
       "      <td>2</td>\n",
       "      <td>6017</td>\n",
       "      <td>51094494</td>\n",
       "      <td>5</td>\n",
       "    </tr>\n",
       "  </tbody>\n",
       "</table>\n",
       "</div>"
      ],
      "text/plain": [
       "   user_ID  program_ID  event_ID  duration\n",
       "0        1      202344  50880093         5\n",
       "1        1      202344  50880093        15\n",
       "2        1      254329  50880094        41\n",
       "3        2      109428  51094492        11\n",
       "4        2        6017  51094494         5"
      ]
     },
     "execution_count": 11,
     "metadata": {},
     "output_type": "execute_result"
    }
   ],
   "source": [
    "tv_dataset.head()"
   ]
  },
  {
   "cell_type": "code",
   "execution_count": 12,
   "metadata": {
    "collapsed": false
   },
   "outputs": [
    {
     "data": {
      "text/plain": [
       "(1808916, 4)"
      ]
     },
     "execution_count": 12,
     "metadata": {},
     "output_type": "execute_result"
    }
   ],
   "source": [
    "tv_dataset.shape"
   ]
  },
  {
   "cell_type": "markdown",
   "metadata": {},
   "source": [
    "Для вычисления $ART$ и $TF$ нужно посчитать среднюю продолжительность передачи для каждого пользователя и общее число взаимодействиий (ивентов) пользователя и передачи. После этого $ART$ и $TF$ получаются как максимум по пользователям в каждой передаче. Средняя продолжительность и общее число взаимодействий:"
   ]
  },
  {
   "cell_type": "code",
   "execution_count": 13,
   "metadata": {
    "collapsed": false
   },
   "outputs": [],
   "source": [
    "tv_grouped = tv_dataset.groupby(['program_ID', 'user_ID']).agg({'event_ID': 'count', 'duration': 'mean'}).reset_index()\n",
    "tv_grouped = tv_grouped.rename(columns={'event_ID': 'event_cnt', 'duration': 'duration_avg'})"
   ]
  },
  {
   "cell_type": "code",
   "execution_count": 14,
   "metadata": {
    "collapsed": false
   },
   "outputs": [
    {
     "data": {
      "text/html": [
       "<div>\n",
       "<table border=\"1\" class=\"dataframe\">\n",
       "  <thead>\n",
       "    <tr style=\"text-align: right;\">\n",
       "      <th></th>\n",
       "      <th>program_ID</th>\n",
       "      <th>user_ID</th>\n",
       "      <th>duration_avg</th>\n",
       "      <th>event_cnt</th>\n",
       "    </tr>\n",
       "  </thead>\n",
       "  <tbody>\n",
       "    <tr>\n",
       "      <th>0</th>\n",
       "      <td>1</td>\n",
       "      <td>2</td>\n",
       "      <td>5.428571</td>\n",
       "      <td>7</td>\n",
       "    </tr>\n",
       "    <tr>\n",
       "      <th>1</th>\n",
       "      <td>1</td>\n",
       "      <td>3</td>\n",
       "      <td>2.578947</td>\n",
       "      <td>95</td>\n",
       "    </tr>\n",
       "    <tr>\n",
       "      <th>2</th>\n",
       "      <td>1</td>\n",
       "      <td>4</td>\n",
       "      <td>2.847458</td>\n",
       "      <td>59</td>\n",
       "    </tr>\n",
       "    <tr>\n",
       "      <th>3</th>\n",
       "      <td>1</td>\n",
       "      <td>5</td>\n",
       "      <td>2.000000</td>\n",
       "      <td>19</td>\n",
       "    </tr>\n",
       "    <tr>\n",
       "      <th>4</th>\n",
       "      <td>1</td>\n",
       "      <td>6</td>\n",
       "      <td>2.370370</td>\n",
       "      <td>27</td>\n",
       "    </tr>\n",
       "  </tbody>\n",
       "</table>\n",
       "</div>"
      ],
      "text/plain": [
       "   program_ID  user_ID  duration_avg  event_cnt\n",
       "0           1        2      5.428571          7\n",
       "1           1        3      2.578947         95\n",
       "2           1        4      2.847458         59\n",
       "3           1        5      2.000000         19\n",
       "4           1        6      2.370370         27"
      ]
     },
     "execution_count": 14,
     "metadata": {},
     "output_type": "execute_result"
    }
   ],
   "source": [
    "tv_grouped.head()"
   ]
  },
  {
   "cell_type": "markdown",
   "metadata": {},
   "source": [
    "Теперь посчитаем $ART$ и $TF$ через вспомогательную таблицу"
   ]
  },
  {
   "cell_type": "code",
   "execution_count": 15,
   "metadata": {
    "collapsed": false
   },
   "outputs": [
    {
     "data": {
      "text/html": [
       "<div>\n",
       "<table border=\"1\" class=\"dataframe\">\n",
       "  <thead>\n",
       "    <tr style=\"text-align: right;\">\n",
       "      <th></th>\n",
       "      <th>program_ID</th>\n",
       "      <th>TF</th>\n",
       "      <th>ART</th>\n",
       "    </tr>\n",
       "  </thead>\n",
       "  <tbody>\n",
       "    <tr>\n",
       "      <th>0</th>\n",
       "      <td>1</td>\n",
       "      <td>514</td>\n",
       "      <td>60.0</td>\n",
       "    </tr>\n",
       "    <tr>\n",
       "      <th>1</th>\n",
       "      <td>3986</td>\n",
       "      <td>4</td>\n",
       "      <td>37.5</td>\n",
       "    </tr>\n",
       "    <tr>\n",
       "      <th>2</th>\n",
       "      <td>4095</td>\n",
       "      <td>2</td>\n",
       "      <td>15.0</td>\n",
       "    </tr>\n",
       "    <tr>\n",
       "      <th>3</th>\n",
       "      <td>4146</td>\n",
       "      <td>7</td>\n",
       "      <td>49.5</td>\n",
       "    </tr>\n",
       "    <tr>\n",
       "      <th>4</th>\n",
       "      <td>4147</td>\n",
       "      <td>6</td>\n",
       "      <td>52.0</td>\n",
       "    </tr>\n",
       "  </tbody>\n",
       "</table>\n",
       "</div>"
      ],
      "text/plain": [
       "   program_ID   TF   ART\n",
       "0           1  514  60.0\n",
       "1        3986    4  37.5\n",
       "2        4095    2  15.0\n",
       "3        4146    7  49.5\n",
       "4        4147    6  52.0"
      ]
     },
     "execution_count": 15,
     "metadata": {},
     "output_type": "execute_result"
    }
   ],
   "source": [
    "tv_max = tv_grouped.groupby('program_ID').agg({'duration_avg': 'max', 'event_cnt': 'max'}).reset_index()\n",
    "tv_max = tv_max.rename(columns={'duration_avg': 'ART', 'event_cnt': 'TF'})\n",
    "tv_max.head()"
   ]
  },
  {
   "cell_type": "markdown",
   "metadata": {},
   "source": [
    "Осталось объединить таблицы:"
   ]
  },
  {
   "cell_type": "code",
   "execution_count": 16,
   "metadata": {
    "collapsed": false
   },
   "outputs": [],
   "source": [
    "tv_merged = tv_grouped.merge(tv_max, how = 'left', left_on='program_ID', right_on='program_ID')"
   ]
  },
  {
   "cell_type": "code",
   "execution_count": 17,
   "metadata": {
    "collapsed": false
   },
   "outputs": [
    {
     "data": {
      "text/html": [
       "<div>\n",
       "<table border=\"1\" class=\"dataframe\">\n",
       "  <thead>\n",
       "    <tr style=\"text-align: right;\">\n",
       "      <th></th>\n",
       "      <th>program_ID</th>\n",
       "      <th>user_ID</th>\n",
       "      <th>duration_avg</th>\n",
       "      <th>event_cnt</th>\n",
       "      <th>TF</th>\n",
       "      <th>ART</th>\n",
       "    </tr>\n",
       "  </thead>\n",
       "  <tbody>\n",
       "    <tr>\n",
       "      <th>0</th>\n",
       "      <td>1</td>\n",
       "      <td>2</td>\n",
       "      <td>5.428571</td>\n",
       "      <td>7</td>\n",
       "      <td>514</td>\n",
       "      <td>60.0</td>\n",
       "    </tr>\n",
       "    <tr>\n",
       "      <th>1</th>\n",
       "      <td>1</td>\n",
       "      <td>3</td>\n",
       "      <td>2.578947</td>\n",
       "      <td>95</td>\n",
       "      <td>514</td>\n",
       "      <td>60.0</td>\n",
       "    </tr>\n",
       "    <tr>\n",
       "      <th>2</th>\n",
       "      <td>1</td>\n",
       "      <td>4</td>\n",
       "      <td>2.847458</td>\n",
       "      <td>59</td>\n",
       "      <td>514</td>\n",
       "      <td>60.0</td>\n",
       "    </tr>\n",
       "    <tr>\n",
       "      <th>3</th>\n",
       "      <td>1</td>\n",
       "      <td>5</td>\n",
       "      <td>2.000000</td>\n",
       "      <td>19</td>\n",
       "      <td>514</td>\n",
       "      <td>60.0</td>\n",
       "    </tr>\n",
       "    <tr>\n",
       "      <th>4</th>\n",
       "      <td>1</td>\n",
       "      <td>6</td>\n",
       "      <td>2.370370</td>\n",
       "      <td>27</td>\n",
       "      <td>514</td>\n",
       "      <td>60.0</td>\n",
       "    </tr>\n",
       "  </tbody>\n",
       "</table>\n",
       "</div>"
      ],
      "text/plain": [
       "   program_ID  user_ID  duration_avg  event_cnt   TF   ART\n",
       "0           1        2      5.428571          7  514  60.0\n",
       "1           1        3      2.578947         95  514  60.0\n",
       "2           1        4      2.847458         59  514  60.0\n",
       "3           1        5      2.000000         19  514  60.0\n",
       "4           1        6      2.370370         27  514  60.0"
      ]
     },
     "execution_count": 17,
     "metadata": {},
     "output_type": "execute_result"
    }
   ],
   "source": [
    "tv_merged.head()"
   ]
  },
  {
   "cell_type": "markdown",
   "metadata": {
    "collapsed": false
   },
   "source": [
    "Теперь посчитаем $DR$ и $FR$:"
   ]
  },
  {
   "cell_type": "code",
   "execution_count": 18,
   "metadata": {
    "collapsed": false
   },
   "outputs": [],
   "source": [
    "tv_merged['DR'] = tv_merged.duration_avg / tv_merged.ART\n",
    "tv_merged['FR'] = tv_merged.event_cnt / tv_merged.TF"
   ]
  },
  {
   "cell_type": "code",
   "execution_count": 19,
   "metadata": {
    "collapsed": false
   },
   "outputs": [
    {
     "data": {
      "text/html": [
       "<div>\n",
       "<table border=\"1\" class=\"dataframe\">\n",
       "  <thead>\n",
       "    <tr style=\"text-align: right;\">\n",
       "      <th></th>\n",
       "      <th>program_ID</th>\n",
       "      <th>user_ID</th>\n",
       "      <th>duration_avg</th>\n",
       "      <th>event_cnt</th>\n",
       "      <th>TF</th>\n",
       "      <th>ART</th>\n",
       "      <th>DR</th>\n",
       "      <th>FR</th>\n",
       "    </tr>\n",
       "  </thead>\n",
       "  <tbody>\n",
       "    <tr>\n",
       "      <th>0</th>\n",
       "      <td>1</td>\n",
       "      <td>2</td>\n",
       "      <td>5.428571</td>\n",
       "      <td>7</td>\n",
       "      <td>514</td>\n",
       "      <td>60.0</td>\n",
       "      <td>0.090476</td>\n",
       "      <td>0.013619</td>\n",
       "    </tr>\n",
       "    <tr>\n",
       "      <th>1</th>\n",
       "      <td>1</td>\n",
       "      <td>3</td>\n",
       "      <td>2.578947</td>\n",
       "      <td>95</td>\n",
       "      <td>514</td>\n",
       "      <td>60.0</td>\n",
       "      <td>0.042982</td>\n",
       "      <td>0.184825</td>\n",
       "    </tr>\n",
       "    <tr>\n",
       "      <th>2</th>\n",
       "      <td>1</td>\n",
       "      <td>4</td>\n",
       "      <td>2.847458</td>\n",
       "      <td>59</td>\n",
       "      <td>514</td>\n",
       "      <td>60.0</td>\n",
       "      <td>0.047458</td>\n",
       "      <td>0.114786</td>\n",
       "    </tr>\n",
       "    <tr>\n",
       "      <th>3</th>\n",
       "      <td>1</td>\n",
       "      <td>5</td>\n",
       "      <td>2.000000</td>\n",
       "      <td>19</td>\n",
       "      <td>514</td>\n",
       "      <td>60.0</td>\n",
       "      <td>0.033333</td>\n",
       "      <td>0.036965</td>\n",
       "    </tr>\n",
       "    <tr>\n",
       "      <th>4</th>\n",
       "      <td>1</td>\n",
       "      <td>6</td>\n",
       "      <td>2.370370</td>\n",
       "      <td>27</td>\n",
       "      <td>514</td>\n",
       "      <td>60.0</td>\n",
       "      <td>0.039506</td>\n",
       "      <td>0.052529</td>\n",
       "    </tr>\n",
       "    <tr>\n",
       "      <th>5</th>\n",
       "      <td>1</td>\n",
       "      <td>7</td>\n",
       "      <td>6.625000</td>\n",
       "      <td>24</td>\n",
       "      <td>514</td>\n",
       "      <td>60.0</td>\n",
       "      <td>0.110417</td>\n",
       "      <td>0.046693</td>\n",
       "    </tr>\n",
       "    <tr>\n",
       "      <th>6</th>\n",
       "      <td>1</td>\n",
       "      <td>8</td>\n",
       "      <td>6.625000</td>\n",
       "      <td>24</td>\n",
       "      <td>514</td>\n",
       "      <td>60.0</td>\n",
       "      <td>0.110417</td>\n",
       "      <td>0.046693</td>\n",
       "    </tr>\n",
       "    <tr>\n",
       "      <th>7</th>\n",
       "      <td>1</td>\n",
       "      <td>9</td>\n",
       "      <td>9.000000</td>\n",
       "      <td>16</td>\n",
       "      <td>514</td>\n",
       "      <td>60.0</td>\n",
       "      <td>0.150000</td>\n",
       "      <td>0.031128</td>\n",
       "    </tr>\n",
       "    <tr>\n",
       "      <th>8</th>\n",
       "      <td>1</td>\n",
       "      <td>10</td>\n",
       "      <td>4.000000</td>\n",
       "      <td>5</td>\n",
       "      <td>514</td>\n",
       "      <td>60.0</td>\n",
       "      <td>0.066667</td>\n",
       "      <td>0.009728</td>\n",
       "    </tr>\n",
       "    <tr>\n",
       "      <th>9</th>\n",
       "      <td>1</td>\n",
       "      <td>11</td>\n",
       "      <td>3.959184</td>\n",
       "      <td>49</td>\n",
       "      <td>514</td>\n",
       "      <td>60.0</td>\n",
       "      <td>0.065986</td>\n",
       "      <td>0.095331</td>\n",
       "    </tr>\n",
       "  </tbody>\n",
       "</table>\n",
       "</div>"
      ],
      "text/plain": [
       "   program_ID  user_ID  duration_avg  event_cnt   TF   ART        DR        FR\n",
       "0           1        2      5.428571          7  514  60.0  0.090476  0.013619\n",
       "1           1        3      2.578947         95  514  60.0  0.042982  0.184825\n",
       "2           1        4      2.847458         59  514  60.0  0.047458  0.114786\n",
       "3           1        5      2.000000         19  514  60.0  0.033333  0.036965\n",
       "4           1        6      2.370370         27  514  60.0  0.039506  0.052529\n",
       "5           1        7      6.625000         24  514  60.0  0.110417  0.046693\n",
       "6           1        8      6.625000         24  514  60.0  0.110417  0.046693\n",
       "7           1        9      9.000000         16  514  60.0  0.150000  0.031128\n",
       "8           1       10      4.000000          5  514  60.0  0.066667  0.009728\n",
       "9           1       11      3.959184         49  514  60.0  0.065986  0.095331"
      ]
     },
     "execution_count": 19,
     "metadata": {},
     "output_type": "execute_result"
    }
   ],
   "source": [
    "tv_merged.head(10)"
   ]
  },
  {
   "cell_type": "markdown",
   "metadata": {
    "collapsed": true
   },
   "source": [
    "Последний шаг -- перевести $DR$ и $FR$ в рейтинги:"
   ]
  },
  {
   "cell_type": "code",
   "execution_count": 20,
   "metadata": {
    "collapsed": true
   },
   "outputs": [],
   "source": [
    "def rating_DR(x):\n",
    "    if 0 < x <= 0.05:\n",
    "        return 1\n",
    "    if 0.05 < x <= 0.25:\n",
    "        return 2\n",
    "    if 0.25 < x <= 0.5:\n",
    "        return 3\n",
    "    if 0.5 < x <= 0.75:\n",
    "        return 4\n",
    "    if 0.75 < x <= 1:\n",
    "        return 5\n",
    "    \n",
    "from math import ceil\n",
    "\n",
    "def rating_FR(x):\n",
    "    return ceil(x * 5)"
   ]
  },
  {
   "cell_type": "code",
   "execution_count": 21,
   "metadata": {
    "collapsed": false
   },
   "outputs": [],
   "source": [
    "tv_merged['rating_duration'] = [rating_DR(x) for x in tv_merged.DR]\n",
    "tv_merged['rating_frequency'] = [rating_FR(x) for x in tv_merged.FR]"
   ]
  },
  {
   "cell_type": "code",
   "execution_count": 22,
   "metadata": {
    "collapsed": false
   },
   "outputs": [
    {
     "data": {
      "text/html": [
       "<div>\n",
       "<table border=\"1\" class=\"dataframe\">\n",
       "  <thead>\n",
       "    <tr style=\"text-align: right;\">\n",
       "      <th></th>\n",
       "      <th>program_ID</th>\n",
       "      <th>user_ID</th>\n",
       "      <th>duration_avg</th>\n",
       "      <th>event_cnt</th>\n",
       "      <th>TF</th>\n",
       "      <th>ART</th>\n",
       "      <th>DR</th>\n",
       "      <th>FR</th>\n",
       "      <th>rating_duration</th>\n",
       "      <th>rating_frequency</th>\n",
       "    </tr>\n",
       "  </thead>\n",
       "  <tbody>\n",
       "    <tr>\n",
       "      <th>0</th>\n",
       "      <td>1</td>\n",
       "      <td>2</td>\n",
       "      <td>5.428571</td>\n",
       "      <td>7</td>\n",
       "      <td>514</td>\n",
       "      <td>60.0</td>\n",
       "      <td>0.090476</td>\n",
       "      <td>0.013619</td>\n",
       "      <td>2</td>\n",
       "      <td>1</td>\n",
       "    </tr>\n",
       "    <tr>\n",
       "      <th>1</th>\n",
       "      <td>1</td>\n",
       "      <td>3</td>\n",
       "      <td>2.578947</td>\n",
       "      <td>95</td>\n",
       "      <td>514</td>\n",
       "      <td>60.0</td>\n",
       "      <td>0.042982</td>\n",
       "      <td>0.184825</td>\n",
       "      <td>1</td>\n",
       "      <td>1</td>\n",
       "    </tr>\n",
       "    <tr>\n",
       "      <th>2</th>\n",
       "      <td>1</td>\n",
       "      <td>4</td>\n",
       "      <td>2.847458</td>\n",
       "      <td>59</td>\n",
       "      <td>514</td>\n",
       "      <td>60.0</td>\n",
       "      <td>0.047458</td>\n",
       "      <td>0.114786</td>\n",
       "      <td>1</td>\n",
       "      <td>1</td>\n",
       "    </tr>\n",
       "    <tr>\n",
       "      <th>3</th>\n",
       "      <td>1</td>\n",
       "      <td>5</td>\n",
       "      <td>2.000000</td>\n",
       "      <td>19</td>\n",
       "      <td>514</td>\n",
       "      <td>60.0</td>\n",
       "      <td>0.033333</td>\n",
       "      <td>0.036965</td>\n",
       "      <td>1</td>\n",
       "      <td>1</td>\n",
       "    </tr>\n",
       "    <tr>\n",
       "      <th>4</th>\n",
       "      <td>1</td>\n",
       "      <td>6</td>\n",
       "      <td>2.370370</td>\n",
       "      <td>27</td>\n",
       "      <td>514</td>\n",
       "      <td>60.0</td>\n",
       "      <td>0.039506</td>\n",
       "      <td>0.052529</td>\n",
       "      <td>1</td>\n",
       "      <td>1</td>\n",
       "    </tr>\n",
       "    <tr>\n",
       "      <th>5</th>\n",
       "      <td>1</td>\n",
       "      <td>7</td>\n",
       "      <td>6.625000</td>\n",
       "      <td>24</td>\n",
       "      <td>514</td>\n",
       "      <td>60.0</td>\n",
       "      <td>0.110417</td>\n",
       "      <td>0.046693</td>\n",
       "      <td>2</td>\n",
       "      <td>1</td>\n",
       "    </tr>\n",
       "    <tr>\n",
       "      <th>6</th>\n",
       "      <td>1</td>\n",
       "      <td>8</td>\n",
       "      <td>6.625000</td>\n",
       "      <td>24</td>\n",
       "      <td>514</td>\n",
       "      <td>60.0</td>\n",
       "      <td>0.110417</td>\n",
       "      <td>0.046693</td>\n",
       "      <td>2</td>\n",
       "      <td>1</td>\n",
       "    </tr>\n",
       "    <tr>\n",
       "      <th>7</th>\n",
       "      <td>1</td>\n",
       "      <td>9</td>\n",
       "      <td>9.000000</td>\n",
       "      <td>16</td>\n",
       "      <td>514</td>\n",
       "      <td>60.0</td>\n",
       "      <td>0.150000</td>\n",
       "      <td>0.031128</td>\n",
       "      <td>2</td>\n",
       "      <td>1</td>\n",
       "    </tr>\n",
       "    <tr>\n",
       "      <th>8</th>\n",
       "      <td>1</td>\n",
       "      <td>10</td>\n",
       "      <td>4.000000</td>\n",
       "      <td>5</td>\n",
       "      <td>514</td>\n",
       "      <td>60.0</td>\n",
       "      <td>0.066667</td>\n",
       "      <td>0.009728</td>\n",
       "      <td>2</td>\n",
       "      <td>1</td>\n",
       "    </tr>\n",
       "    <tr>\n",
       "      <th>9</th>\n",
       "      <td>1</td>\n",
       "      <td>11</td>\n",
       "      <td>3.959184</td>\n",
       "      <td>49</td>\n",
       "      <td>514</td>\n",
       "      <td>60.0</td>\n",
       "      <td>0.065986</td>\n",
       "      <td>0.095331</td>\n",
       "      <td>2</td>\n",
       "      <td>1</td>\n",
       "    </tr>\n",
       "  </tbody>\n",
       "</table>\n",
       "</div>"
      ],
      "text/plain": [
       "   program_ID  user_ID  duration_avg  event_cnt   TF   ART        DR  \\\n",
       "0           1        2      5.428571          7  514  60.0  0.090476   \n",
       "1           1        3      2.578947         95  514  60.0  0.042982   \n",
       "2           1        4      2.847458         59  514  60.0  0.047458   \n",
       "3           1        5      2.000000         19  514  60.0  0.033333   \n",
       "4           1        6      2.370370         27  514  60.0  0.039506   \n",
       "5           1        7      6.625000         24  514  60.0  0.110417   \n",
       "6           1        8      6.625000         24  514  60.0  0.110417   \n",
       "7           1        9      9.000000         16  514  60.0  0.150000   \n",
       "8           1       10      4.000000          5  514  60.0  0.066667   \n",
       "9           1       11      3.959184         49  514  60.0  0.065986   \n",
       "\n",
       "         FR  rating_duration  rating_frequency  \n",
       "0  0.013619                2                 1  \n",
       "1  0.184825                1                 1  \n",
       "2  0.114786                1                 1  \n",
       "3  0.036965                1                 1  \n",
       "4  0.052529                1                 1  \n",
       "5  0.046693                2                 1  \n",
       "6  0.046693                2                 1  \n",
       "7  0.031128                2                 1  \n",
       "8  0.009728                2                 1  \n",
       "9  0.095331                2                 1  "
      ]
     },
     "execution_count": 22,
     "metadata": {},
     "output_type": "execute_result"
    }
   ],
   "source": [
    "tv_merged.head(10)"
   ]
  },
  {
   "cell_type": "markdown",
   "metadata": {},
   "source": [
    "Посмотрим на графики и сравним их с соответствующими в статье:"
   ]
  },
  {
   "cell_type": "code",
   "execution_count": 23,
   "metadata": {
    "collapsed": true
   },
   "outputs": [],
   "source": [
    "import matplotlib.pyplot as plt\n",
    "%matplotlib inline  "
   ]
  },
  {
   "cell_type": "code",
   "execution_count": 24,
   "metadata": {
    "collapsed": false
   },
   "outputs": [
    {
     "data": {
      "image/png": "[encoded data removed]",
      "text/plain": [
       "<matplotlib.figure.Figure at 0x7f502a091550>"
      ]
     },
     "metadata": {},
     "output_type": "display_data"
    }
   ],
   "source": [
    "plt.hist(tv_merged.rating_duration, bins=5, facecolor='blue', normed=1, alpha=0.5)\n",
    "plt.xlabel('Rating Duration')\n",
    "plt.show()"
   ]
  },
  {
   "cell_type": "markdown",
   "metadata": {},
   "source": [
    "Примечательно, что этот график выглядит очень похоже по распределению на тот, который представлен в статье по большему количеству данных и с фильтрацией по продолжительности менее минуты. То есть данные разные по количеству и преодобработке, а распределение похоже. Ради интереса посмотрим на то, как выглядит рейтинг продолжительности, если его переводить равномерно:"
   ]
  },
  {
   "cell_type": "code",
   "execution_count": 25,
   "metadata": {
    "collapsed": false
   },
   "outputs": [
    {
     "data": {
      "image/png": "[encoded data removed]",
      "text/plain": [
       "<matplotlib.figure.Figure at 0x7f5029ffb208>"
      ]
     },
     "metadata": {},
     "output_type": "display_data"
    }
   ],
   "source": [
    "RD_even = [rating_FR(x) for x in tv_merged.DR]\n",
    "plt.hist(RD_even, bins=5, facecolor='purple', normed=1, alpha=0.5)\n",
    "plt.xlabel('Rating Duration even')\n",
    "plt.show()"
   ]
  },
  {
   "cell_type": "markdown",
   "metadata": {},
   "source": [
    "И это получилось более похоже на рейтинг по частоте:"
   ]
  },
  {
   "cell_type": "code",
   "execution_count": 26,
   "metadata": {
    "collapsed": false
   },
   "outputs": [
    {
     "data": {
      "image/png": "[encoded data removed]",
      "text/plain": [
       "<matplotlib.figure.Figure at 0x7f502a010dd8>"
      ]
     },
     "metadata": {},
     "output_type": "display_data"
    }
   ],
   "source": [
    "plt.hist(tv_merged.rating_frequency, bins=5, facecolor='green', normed=1, alpha=0.5)\n",
    "plt.xlabel('Rating Frequency')\n",
    "plt.show()"
   ]
  },
  {
   "cell_type": "markdown",
   "metadata": {
    "collapsed": true
   },
   "source": [
    "Заметим, что в статье для рейтинга по частоте есть заметный скачок для рейтинга, равного 5 -- примерно 25% пользователей смотрят передачу на постоянной основе. Здесь эта цифра гораздо меньше.\n",
    "И оба графика при равномерном переводе в рейтинг выглядят похоже на экспоненту (в целом присущей User-Item interaction), что ставит под вопрос, несёт ли этот рейтинг какую-либо полезную информацию.\n",
    "\n",
    "Посмотрим на итоговый рейтинг для разных $n$, как указано в статье."
   ]
  },
  {
   "cell_type": "code",
   "execution_count": 27,
   "metadata": {
    "collapsed": false
   },
   "outputs": [],
   "source": [
    "def rating_final(x, y, n=0):\n",
    "    return x ** n * y ** (1 - n)\n"
   ]
  },
  {
   "cell_type": "code",
   "execution_count": 28,
   "metadata": {
    "collapsed": true
   },
   "outputs": [],
   "source": [
    "ratings = tv_merged.loc[:,['rating_frequency','rating_duration']]"
   ]
  },
  {
   "cell_type": "code",
   "execution_count": 29,
   "metadata": {
    "collapsed": false
   },
   "outputs": [
    {
     "data": {
      "text/html": [
       "<div>\n",
       "<table border=\"1\" class=\"dataframe\">\n",
       "  <thead>\n",
       "    <tr style=\"text-align: right;\">\n",
       "      <th></th>\n",
       "      <th>rating_frequency</th>\n",
       "      <th>rating_duration</th>\n",
       "    </tr>\n",
       "  </thead>\n",
       "  <tbody>\n",
       "    <tr>\n",
       "      <th>0</th>\n",
       "      <td>1</td>\n",
       "      <td>2</td>\n",
       "    </tr>\n",
       "    <tr>\n",
       "      <th>1</th>\n",
       "      <td>1</td>\n",
       "      <td>1</td>\n",
       "    </tr>\n",
       "    <tr>\n",
       "      <th>2</th>\n",
       "      <td>1</td>\n",
       "      <td>1</td>\n",
       "    </tr>\n",
       "    <tr>\n",
       "      <th>3</th>\n",
       "      <td>1</td>\n",
       "      <td>1</td>\n",
       "    </tr>\n",
       "    <tr>\n",
       "      <th>4</th>\n",
       "      <td>1</td>\n",
       "      <td>1</td>\n",
       "    </tr>\n",
       "  </tbody>\n",
       "</table>\n",
       "</div>"
      ],
      "text/plain": [
       "   rating_frequency  rating_duration\n",
       "0                 1                2\n",
       "1                 1                1\n",
       "2                 1                1\n",
       "3                 1                1\n",
       "4                 1                1"
      ]
     },
     "execution_count": 29,
     "metadata": {},
     "output_type": "execute_result"
    }
   ],
   "source": [
    "ratings.head()"
   ]
  },
  {
   "cell_type": "code",
   "execution_count": 30,
   "metadata": {
    "collapsed": false
   },
   "outputs": [],
   "source": [
    "for i in range(5):\n",
    "    n = i/4\n",
    "    col_name = 'n={}'.format(n)\n",
    "    ratings[col_name] = [rating_final(x, y, n) for x, y in zip(ratings.rating_frequency, ratings.rating_duration)]\n"
   ]
  },
  {
   "cell_type": "code",
   "execution_count": 31,
   "metadata": {
    "collapsed": false
   },
   "outputs": [
    {
     "data": {
      "text/html": [
       "<div>\n",
       "<table border=\"1\" class=\"dataframe\">\n",
       "  <thead>\n",
       "    <tr style=\"text-align: right;\">\n",
       "      <th></th>\n",
       "      <th>rating_frequency</th>\n",
       "      <th>rating_duration</th>\n",
       "      <th>n=0.0</th>\n",
       "      <th>n=0.25</th>\n",
       "      <th>n=0.5</th>\n",
       "      <th>n=0.75</th>\n",
       "      <th>n=1.0</th>\n",
       "    </tr>\n",
       "  </thead>\n",
       "  <tbody>\n",
       "    <tr>\n",
       "      <th>0</th>\n",
       "      <td>1</td>\n",
       "      <td>2</td>\n",
       "      <td>2.0</td>\n",
       "      <td>1.681793</td>\n",
       "      <td>1.414214</td>\n",
       "      <td>1.189207</td>\n",
       "      <td>1.0</td>\n",
       "    </tr>\n",
       "    <tr>\n",
       "      <th>1</th>\n",
       "      <td>1</td>\n",
       "      <td>1</td>\n",
       "      <td>1.0</td>\n",
       "      <td>1.000000</td>\n",
       "      <td>1.000000</td>\n",
       "      <td>1.000000</td>\n",
       "      <td>1.0</td>\n",
       "    </tr>\n",
       "    <tr>\n",
       "      <th>2</th>\n",
       "      <td>1</td>\n",
       "      <td>1</td>\n",
       "      <td>1.0</td>\n",
       "      <td>1.000000</td>\n",
       "      <td>1.000000</td>\n",
       "      <td>1.000000</td>\n",
       "      <td>1.0</td>\n",
       "    </tr>\n",
       "    <tr>\n",
       "      <th>3</th>\n",
       "      <td>1</td>\n",
       "      <td>1</td>\n",
       "      <td>1.0</td>\n",
       "      <td>1.000000</td>\n",
       "      <td>1.000000</td>\n",
       "      <td>1.000000</td>\n",
       "      <td>1.0</td>\n",
       "    </tr>\n",
       "    <tr>\n",
       "      <th>4</th>\n",
       "      <td>1</td>\n",
       "      <td>1</td>\n",
       "      <td>1.0</td>\n",
       "      <td>1.000000</td>\n",
       "      <td>1.000000</td>\n",
       "      <td>1.000000</td>\n",
       "      <td>1.0</td>\n",
       "    </tr>\n",
       "    <tr>\n",
       "      <th>5</th>\n",
       "      <td>1</td>\n",
       "      <td>2</td>\n",
       "      <td>2.0</td>\n",
       "      <td>1.681793</td>\n",
       "      <td>1.414214</td>\n",
       "      <td>1.189207</td>\n",
       "      <td>1.0</td>\n",
       "    </tr>\n",
       "    <tr>\n",
       "      <th>6</th>\n",
       "      <td>1</td>\n",
       "      <td>2</td>\n",
       "      <td>2.0</td>\n",
       "      <td>1.681793</td>\n",
       "      <td>1.414214</td>\n",
       "      <td>1.189207</td>\n",
       "      <td>1.0</td>\n",
       "    </tr>\n",
       "    <tr>\n",
       "      <th>7</th>\n",
       "      <td>1</td>\n",
       "      <td>2</td>\n",
       "      <td>2.0</td>\n",
       "      <td>1.681793</td>\n",
       "      <td>1.414214</td>\n",
       "      <td>1.189207</td>\n",
       "      <td>1.0</td>\n",
       "    </tr>\n",
       "    <tr>\n",
       "      <th>8</th>\n",
       "      <td>1</td>\n",
       "      <td>2</td>\n",
       "      <td>2.0</td>\n",
       "      <td>1.681793</td>\n",
       "      <td>1.414214</td>\n",
       "      <td>1.189207</td>\n",
       "      <td>1.0</td>\n",
       "    </tr>\n",
       "    <tr>\n",
       "      <th>9</th>\n",
       "      <td>1</td>\n",
       "      <td>2</td>\n",
       "      <td>2.0</td>\n",
       "      <td>1.681793</td>\n",
       "      <td>1.414214</td>\n",
       "      <td>1.189207</td>\n",
       "      <td>1.0</td>\n",
       "    </tr>\n",
       "  </tbody>\n",
       "</table>\n",
       "</div>"
      ],
      "text/plain": [
       "   rating_frequency  rating_duration  n=0.0    n=0.25     n=0.5    n=0.75  \\\n",
       "0                 1                2    2.0  1.681793  1.414214  1.189207   \n",
       "1                 1                1    1.0  1.000000  1.000000  1.000000   \n",
       "2                 1                1    1.0  1.000000  1.000000  1.000000   \n",
       "3                 1                1    1.0  1.000000  1.000000  1.000000   \n",
       "4                 1                1    1.0  1.000000  1.000000  1.000000   \n",
       "5                 1                2    2.0  1.681793  1.414214  1.189207   \n",
       "6                 1                2    2.0  1.681793  1.414214  1.189207   \n",
       "7                 1                2    2.0  1.681793  1.414214  1.189207   \n",
       "8                 1                2    2.0  1.681793  1.414214  1.189207   \n",
       "9                 1                2    2.0  1.681793  1.414214  1.189207   \n",
       "\n",
       "   n=1.0  \n",
       "0    1.0  \n",
       "1    1.0  \n",
       "2    1.0  \n",
       "3    1.0  \n",
       "4    1.0  \n",
       "5    1.0  \n",
       "6    1.0  \n",
       "7    1.0  \n",
       "8    1.0  \n",
       "9    1.0  "
      ]
     },
     "execution_count": 31,
     "metadata": {},
     "output_type": "execute_result"
    }
   ],
   "source": [
    "ratings.head(10)"
   ]
  },
  {
   "cell_type": "markdown",
   "metadata": {},
   "source": [
    "Графики для финального рейтинга при различных $n$:"
   ]
  },
  {
   "cell_type": "code",
   "execution_count": 32,
   "metadata": {
    "collapsed": false
   },
   "outputs": [
    {
     "data": {
      "image/png": "[encoded data removed]",
      "text/plain": [
       "<matplotlib.figure.Figure at 0x7f502120a0f0>"
      ]
     },
     "metadata": {},
     "output_type": "display_data"
    }
   ],
   "source": [
    "colors = ['blue', 'tan', 'purple','violet', 'green',]\n",
    "labels = ['n=0.0', 'n=0.25', 'n=0.5', 'n=0.75', 'n=1.0']\n",
    "ratings_to_plot = [ratings['n=0.0'], ratings['n=0.25'], ratings['n=0.5'], ratings['n=0.75'], ratings['n=1.0']]\n",
    "plt.hist(ratings_to_plot, bins=5, histtype='bar', normed=1, color=colors, label=labels)\n",
    "plt.legend(prop={'size': 10})\n",
    "plt.xlabel('Final rating for n varying')\n",
    "plt.show()"
   ]
  },
  {
   "cell_type": "markdown",
   "metadata": {},
   "source": [
    "Бросается в глаза, что для $n=0.5$, $n = 0.75$, $n = 1.0$ заметной разницы нет, в то время как $n = 1$ это рейтинг частоты в чистом виде (которая переводится в рейтинг равномерно). Графики отличаются от представленных в статье, где для рейтингов 3, 4 и 5 n = 0.75 показывает лучший результат."
   ]
  },
  {
   "cell_type": "markdown",
   "metadata": {},
   "source": [
    "# Дальнейшее развитие"
   ]
  },
  {
   "cell_type": "markdown",
   "metadata": {},
   "source": [
    "Идея преобразовывать неявный фидбек в явный рейтинг выглядит перспективной, с добавлением анализа данных и других алгоритмов может привести к чему-то интересному. Датасет заслуживает отдельного внимания и более подробного анализа и может сделать рейтинги более информативными. Соображения по дальнейшему анализу датасета:\n",
    "* Изучить продолжительность взаимодействий с передачей: например, маленькое время взаимодействия без наличия продолжительного можно использовать как негативный отзыв.\n",
    "* Посмотреть на зависимость признаков между собой. \n",
    "* Добавить slot в рассмотрение продолжительности просмотра и числа взаимодействий.\n",
    "* Помимо рассмотренных в статье столбцов датасет содержит жанры и поджанры, как и время просмотра (неделя и час на этой недели, от 1 до 24*7=168). И это прекрасно. Можно смотреть на популярность жанров в разное время и рекомендовать пользователю передачу в зависимости от настоящего времени.\n",
    "* Изучить похожесть жанров на основе истории просмотра.\n",
    "* Из любопытства можно убрать жанры и кластеризовать поджанры на основе других признаков и посмотреть, насколько это будет совпадать с истинными метками. Как показало изучение темы музыкальных жанров, границы размыты и чёткой таксономии нет.\n",
    "* Рекомендовать пользователю передачу по жанру исходя из его истории просмотра и истории просмотра \"похожих\" на него пользователей."
   ]
  }
 ],
 "metadata": {
  "anaconda-cloud": {},
  "kernelspec": {
   "display_name": "Python [conda env:anaconda3]",
   "language": "python",
   "name": "conda-env-anaconda3-py"
  },
  "language_info": {
   "codemirror_mode": {
    "name": "ipython",
    "version": 3
   },
   "file_extension": ".py",
   "mimetype": "text/x-python",
   "name": "python",
   "nbconvert_exporter": "python",
   "pygments_lexer": "ipython3",
   "version": "3.5.2"
  }
 },
 "nbformat": 4,
 "nbformat_minor": 1
}
